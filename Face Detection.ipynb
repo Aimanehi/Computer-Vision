{
 "cells": [
  {
   "cell_type": "code",
   "execution_count": 2,
   "id": "3e25d7ed",
   "metadata": {},
   "outputs": [],
   "source": [
    "# Import openCv\n",
    "\n",
    "import cv2"
   ]
  },
  {
   "cell_type": "code",
   "execution_count": 3,
   "id": "85f5f07a",
   "metadata": {},
   "outputs": [],
   "source": [
    "# Leverage Haar_cascade classifiers\n",
    "\n",
    "face_cascade = cv2.CascadeClassifier(cv2.data.haarcascades + \"haarcascade_frontalface_default.xml\")\n",
    "eye_cascade = cv2.CascadeClassifier(cv2.data.haarcascades + \"haarcascade_eye.xml\")\n",
    "smile_cascade = cv2.CascadeClassifier(cv2.data.haarcascades + \"haarcascade_smile.xml\")"
   ]
  },
  {
   "cell_type": "code",
   "execution_count": 11,
   "id": "f8c880b6",
   "metadata": {},
   "outputs": [],
   "source": [
    "# Create functin that will detect the face \n",
    "\n",
    "def detect(gray, frame):\n",
    "    # face detection\n",
    "    face = face_cascade.detectMultiScale(gray, 1.3, 5)\n",
    "    for (x,y,w,h) in face:\n",
    "        cv2.rectangle(frame, (x,y), (x+w, y+h), (255,0,0), 3)\n",
    "        roi_gray = gray[y:y+h, x:x+w]\n",
    "        roi_colour = frame[y:y+h, x:x+w]\n",
    "        \n",
    "        # eye detection\n",
    "        eye = eye_cascade.detectMultiScale(gray, 1.1, 5)\n",
    "        for (ex, ey, ew, eh) in eye:\n",
    "            cv2.rectangle(frame, (ex,ey), (ex+ew, ey+eh), (100,200,100), 2)\n",
    "            \n",
    "        # smile  detection\n",
    "        smile = smile_cascade.detectMultiScale(gray, 1.7, 20)\n",
    "        for (sx, sy, sw, sh) in smile:\n",
    "            cv2.rectangle(frame, (sx,sy), (sx+sw, sy+sh), (0,200,100), 2)\n",
    "\n",
    "    return frame"
   ]
  },
  {
   "cell_type": "code",
   "execution_count": 12,
   "id": "d655abab",
   "metadata": {
    "scrolled": true
   },
   "outputs": [],
   "source": [
    "capture = cv2.VideoCapture(0) # input 0 - Webcam and 1 - External webcam\n",
    "\n",
    "while True:\n",
    "    _, frame = capture.read()\n",
    "    gray = cv2.cvtColor(frame, cv2.COLOR_BGR2GRAY) # converting to gray scale\n",
    "    canvas = detect(gray, frame)\n",
    "    cv2.imshow(\"Video\", canvas)\n",
    "    if cv2.waitKey(1) & 0xff == ord(\"q\"):\n",
    "        break\n",
    "capture.release()\n",
    "cv2.destroyAllWindows()\n"
   ]
  },
  {
   "cell_type": "code",
   "execution_count": null,
   "id": "316b9a8f",
   "metadata": {},
   "outputs": [],
   "source": []
  },
  {
   "cell_type": "code",
   "execution_count": null,
   "id": "de7f76d4",
   "metadata": {},
   "outputs": [],
   "source": []
  },
  {
   "cell_type": "code",
   "execution_count": null,
   "id": "43732fe0",
   "metadata": {},
   "outputs": [],
   "source": []
  }
 ],
 "metadata": {
  "kernelspec": {
   "display_name": "Python 3 (ipykernel)",
   "language": "python",
   "name": "python3"
  },
  "language_info": {
   "codemirror_mode": {
    "name": "ipython",
    "version": 3
   },
   "file_extension": ".py",
   "mimetype": "text/x-python",
   "name": "python",
   "nbconvert_exporter": "python",
   "pygments_lexer": "ipython3",
   "version": "3.9.13"
  }
 },
 "nbformat": 4,
 "nbformat_minor": 5
}
