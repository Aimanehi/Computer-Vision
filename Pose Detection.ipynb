{
 "cells": [
  {
   "cell_type": "code",
   "execution_count": 11,
   "id": "120f2d45",
   "metadata": {},
   "outputs": [],
   "source": [
    "# step 1: import all necessary libraries\n",
    "\n",
    "import cv2\n",
    "import mediapipe as mp"
   ]
  },
  {
   "cell_type": "code",
   "execution_count": 12,
   "id": "b8b28cc1",
   "metadata": {},
   "outputs": [],
   "source": [
    "# step 2: identify your webcam\n",
    "cap = cv2.VideoCapture(0)"
   ]
  },
  {
   "cell_type": "code",
   "execution_count": 13,
   "id": "5d3408cb",
   "metadata": {},
   "outputs": [],
   "source": [
    "# step 4: Leveraging the mediapipe for pose detection\n",
    "mpPose = mp.solutions.pose\n",
    "pose = mpPose.Pose()\n",
    "\n",
    "# pose = myPose.Pose(static_image_mode=False, Upper_body_only, smooth_landmarks=True, min_detection_confidence=0.5, min_tracking_confidence= 0.5)\n",
    "\n",
    "# to draw and connect the landmarks\n",
    "mpDraw = mp.solutions.drawing_utils"
   ]
  },
  {
   "cell_type": "code",
   "execution_count": null,
   "id": "d023e2f8",
   "metadata": {},
   "outputs": [],
   "source": [
    "# step 3: Switch on webcam\n",
    "\n",
    "while True:\n",
    "    _,img = cap.read()\n",
    "  \n",
    "# converting to RGB\n",
    "\n",
    "    imgRGB = cv2.cvtColor(img, cv2.COLOR_BGR2RGB) \n",
    "    \n",
    "    # apply mediapipe\n",
    "    results = pose.process(imgRGB)\n",
    "    \n",
    "    #print(results.multi_hand_landmarks)\n",
    "    \n",
    "    if results.pose_landmarks:\n",
    "        mpDraw.draw_landmarks(img, results.pose_landmarks, mpPose.POSE_CONNECTIONS)\n",
    "    \n",
    "    cv2.putText(img, \"Pose Detection Program\", (10, 40), cv2.FONT_HERSHEY_PLAIN, 3, (255,255,255), 0)\n",
    "    cv2.imshow(\"Pose detection project\", img)\n",
    "    if cv2.waitKey(1) & 0xFF == ord('q'):\n",
    "        break\n",
    "        \n",
    "cap.release()\n",
    "cv2.destroyAllWindows()"
   ]
  },
  {
   "cell_type": "code",
   "execution_count": null,
   "id": "7bd4ac34",
   "metadata": {},
   "outputs": [],
   "source": []
  },
  {
   "cell_type": "code",
   "execution_count": null,
   "id": "40b0caf5",
   "metadata": {},
   "outputs": [],
   "source": []
  },
  {
   "cell_type": "code",
   "execution_count": null,
   "id": "89c79cf1",
   "metadata": {},
   "outputs": [],
   "source": []
  }
 ],
 "metadata": {
  "kernelspec": {
   "display_name": "Python 3 (ipykernel)",
   "language": "python",
   "name": "python3"
  },
  "language_info": {
   "codemirror_mode": {
    "name": "ipython",
    "version": 3
   },
   "file_extension": ".py",
   "mimetype": "text/x-python",
   "name": "python",
   "nbconvert_exporter": "python",
   "pygments_lexer": "ipython3",
   "version": "3.9.13"
  }
 },
 "nbformat": 4,
 "nbformat_minor": 5
}
